{
  "nbformat": 4,
  "nbformat_minor": 0,
  "metadata": {
    "colab": {
      "provenance": []
    },
    "kernelspec": {
      "name": "python3",
      "display_name": "Python 3"
    },
    "language_info": {
      "name": "python"
    }
  },
  "cells": [
    {
      "cell_type": "code",
      "execution_count": 1,
      "metadata": {
        "colab": {
          "base_uri": "https://localhost:8080/"
        },
        "id": "LP9XZX8FGVnK",
        "outputId": "34b57ff5-93c0-43b8-c7ce-f3323d3dd155"
      },
      "outputs": [
        {
          "output_type": "stream",
          "name": "stdout",
          "text": [
            "Enter text to send: helooo cns\n",
            "Original text: helooo cns\n",
            "\n",
            "Encrypted text: 2\u0004???ð3>CX\n",
            "\n",
            "Decrypted text: helooo cns\n"
          ]
        }
      ],
      "source": [
        "import numpy as np\n",
        "\n",
        "def pad_text(text: str, block_size: int) -> str:\n",
        "    padding_length = (block_size - len(text) % block_size) % block_size\n",
        "    return text + ' ' * padding_length\n",
        "\n",
        "def text_to_numbers(text: str) -> np.ndarray:\n",
        "    return np.array([ord(char) % 256 for char in text])\n",
        "\n",
        "def numbers_to_text(numbers: np.ndarray) -> str:\n",
        "    return ''.join(chr(int(num) % 256) for num in numbers)\n",
        "\n",
        "def mod_inverse(a: int, m: int) -> int:\n",
        "    for x in range(1, m):\n",
        "        if (a * x) % m == 1:\n",
        "            return x\n",
        "    return None\n",
        "\n",
        "def compute_inverse_key_matrix(key_matrix: np.ndarray, mod: int = 256) -> np.ndarray:\n",
        "    det = int(np.round(np.linalg.det(key_matrix)))\n",
        "    det_inv = mod_inverse(det % mod, mod)\n",
        "\n",
        "    if det_inv is None:\n",
        "        raise ValueError(\"Key matrix is not invertible under mod 256\")\n",
        "\n",
        "    adjugate_matrix = np.round(det * np.linalg.inv(key_matrix)).astype(int) % mod\n",
        "    return (det_inv * adjugate_matrix) % mod\n",
        "\n",
        "def process_block(block: np.ndarray, key_matrix: np.ndarray, mode: str = 'encrypt') -> np.ndarray:\n",
        "    if mode == 'decrypt':\n",
        "        key = compute_inverse_key_matrix(key_matrix)\n",
        "    else:\n",
        "        key = key_matrix\n",
        "    return np.dot(key, block) % 256\n",
        "\n",
        "def hill_cipher_text(text: str, key_matrix: np.ndarray, mode: str = 'encrypt') -> str:\n",
        "    n = key_matrix.shape[0]\n",
        "    padded_text = pad_text(text, n)\n",
        "    numbers = text_to_numbers(padded_text)\n",
        "    blocks = numbers.reshape(-1, n).T\n",
        "    processed_blocks = np.zeros_like(blocks)\n",
        "    for i in range(blocks.shape[1]):\n",
        "        processed_blocks[:, i] = process_block(blocks[:, i], key_matrix, mode)\n",
        "    processed_numbers = processed_blocks.T.flatten()\n",
        "    processed_text = numbers_to_text(processed_numbers)\n",
        "    if mode == 'decrypt':\n",
        "        processed_text = processed_text.rstrip()\n",
        "    return processed_text\n",
        "\n",
        "if __name__ == \"__main__\":\n",
        "    key_matrix = np.array([\n",
        "        [1, 2, 0, 0, 0, 0, 0, 0, 0, 0, 0, 0, 0, 0, 0],\n",
        "        [3, 1, 0, 0, 0, 0, 0, 0, 0, 0, 0, 0, 0, 0, 0],\n",
        "        [6, 8, 1, 0, 0, 0, 0, 0, 0, 0, 0, 0, 0, 0, 0],\n",
        "        [6, 8, 10, 1, 0, 0, 0, 0, 0, 0, 0, 0, 0, 0, 0],\n",
        "        [6, 8, 10, 0, 1, 0, 0, 0, 0, 0, 0, 0, 0, 0, 0],\n",
        "        [6, 8, 10, 0, 0, 1, 0, 0, 0, 0, 0, 0, 0, 0, 0],\n",
        "        [6, 8, 10, 0, 0, 0, 1, 0, 0, 0, 0, 0, 0, 0, 0],\n",
        "        [6, 8, 10, 0, 0, 0, 0, 1, 0, 0, 0, 0, 0, 0, 0],\n",
        "        [6, 8, 10, 0, 0, 0, 0, 0, 1, 0, 0, 0, 0, 0, 0],\n",
        "        [6, 8, 10, 0, 0, 0, 0, 0, 0, 1, 0, 0, 0, 0, 0],\n",
        "        [0, 8, 10, 0, 0, 0, 0, 0, 0, 0, 1, 0, 0, 0, 0],\n",
        "        [0, 8, 10, 0, 0, 0, 0, 0, 0, 0, 0, 1, 0, 0, 0],\n",
        "        [0, 8, 10, 0, 0, 0, 0, 0, 0, 0, 0, 0, 1, 0, 0],\n",
        "        [0, 8, 10, 0, 0, 0, 0, 0, 0, 0, 0, 0, 0, 1, 0],\n",
        "        [0, 0, 10, 0, 0, 0, 0, 0, 0, 0, 0, 0, 0, 0, 1],\n",
        "    ])\n",
        "\n",
        "    original_text = input(\"Enter text to send: \")\n",
        "    print(f\"Original text: {original_text}\")\n",
        "\n",
        "    encrypted_text = hill_cipher_text(original_text, key_matrix, mode='encrypt')\n",
        "    print(f\"\\nEncrypted text: {encrypted_text}\")\n",
        "\n",
        "    decrypted_text = hill_cipher_text(encrypted_text, key_matrix, mode='decrypt')\n",
        "    print(f\"\\nDecrypted text: {decrypted_text}\")\n"
      ]
    },
    {
      "cell_type": "code",
      "source": [],
      "metadata": {
        "id": "sMQtUqbpHBMz"
      },
      "execution_count": null,
      "outputs": []
    }
  ]
}