{
  "nbformat": 4,
  "nbformat_minor": 0,
  "metadata": {
    "colab": {
      "provenance": []
    },
    "kernelspec": {
      "name": "python3",
      "display_name": "Python 3"
    },
    "language_info": {
      "name": "python"
    }
  },
  "cells": [
    {
      "cell_type": "code",
      "execution_count": 2,
      "metadata": {
        "id": "90Yu20-QBHDr",
        "colab": {
          "base_uri": "https://localhost:8080/"
        },
        "outputId": "dacf1fbd-8b8d-4b49-b117-47276c07f692"
      },
      "outputs": [
        {
          "output_type": "stream",
          "name": "stdout",
          "text": [
            "Encrypted image saved to: images_encrypt.png\n",
            "Decrypted image saved to: images_encrypt_decrypt.png\n"
          ]
        }
      ],
      "source": [
        "import numpy as np\n",
        "from PIL import Image\n",
        "\n",
        "def mod_inverse(a, m):\n",
        "    for x in range(1, m):\n",
        "        if (a * x) % m == 1:\n",
        "            return x\n",
        "    return None\n",
        "\n",
        "def encrypt_block(block, key_matrix):\n",
        "    return np.dot(key_matrix, block) % 256\n",
        "\n",
        "def decrypt_block(block, inv_key_matrix):\n",
        "    return np.dot(inv_key_matrix, block) % 256\n",
        "\n",
        "def compute_inverse_key_matrix(key_matrix, mod=256):\n",
        "    det = int(np.round(np.linalg.det(key_matrix)))\n",
        "    det_inv = mod_inverse(det, mod)\n",
        "    if det_inv is None:\n",
        "        raise ValueError(\"Key matrix is not invertible under mod 256\")\n",
        "    adjugate_matrix = np.round(det * np.linalg.inv(key_matrix)).astype(int) % mod\n",
        "    return (det_inv * adjugate_matrix) % mod\n",
        "\n",
        "def hill_cipher_image(image_path, key_matrix, mode='encrypt'):\n",
        "\n",
        "    img = Image.open(image_path).convert('L')\n",
        "    pixels = np.array(img)\n",
        "    n = key_matrix.shape[0]\n",
        "\n",
        "    inv_key_matrix = None\n",
        "    if mode == 'decrypt':\n",
        "        inv_key_matrix = compute_inverse_key_matrix(key_matrix)\n",
        "\n",
        "    padded_height = (pixels.shape[0] + n - 1) // n * n\n",
        "    padded_width = (pixels.shape[1] + n - 1) // n * n\n",
        "    padded_pixels = np.pad(pixels, ((0, padded_height - pixels.shape[0]),\n",
        "                                    (0, padded_width - pixels.shape[1])),\n",
        "                           mode='constant', constant_values=0)\n",
        "    processed_pixels = np.copy(padded_pixels)\n",
        "\n",
        "    for i in range(0, padded_pixels.shape[0], n):\n",
        "        for j in range(0, padded_pixels.shape[1], n):\n",
        "            block = padded_pixels[i:i+n, j:j+n]\n",
        "            if mode == 'encrypt':\n",
        "                processed_block = encrypt_block(block, key_matrix)\n",
        "            else:\n",
        "                processed_block = decrypt_block(block, inv_key_matrix)\n",
        "            processed_pixels[i:i+n, j:j+n] = processed_block\n",
        "\n",
        "    final_pixels = processed_pixels[:pixels.shape[0], :pixels.shape[1]]\n",
        "    processed_img = Image.fromarray(final_pixels.astype(np.uint8))\n",
        "    output_path = f\"{image_path.split('.')[0]}_{mode}.png\"\n",
        "    processed_img.save(output_path)\n",
        "\n",
        "    return output_path\n",
        "\n",
        "key_matrix = np.array([\n",
        "    [1, 2, 0, 0, 0, 0, 0, 0, 0, 0, 0, 0, 0, 0, 0],\n",
        "    [3, 1, 0, 0, 0, 0, 0, 0, 0, 0, 0, 0, 0, 0, 0],\n",
        "    [6, 8, 1, 0, 0, 0, 0, 0, 0, 0, 0, 0, 0, 0, 0],\n",
        "    [6, 8, 10, 1, 0, 0, 0, 0, 0, 0, 0, 0, 0, 0, 0],\n",
        "    [6, 8, 10, 0, 1, 0, 0, 0, 0, 0, 0, 0, 0, 0, 0],\n",
        "    [6, 8, 10, 0, 0, 1, 0, 0, 0, 0, 0, 0, 0, 0, 0],\n",
        "    [6, 8, 10, 0, 0, 0, 1, 0, 0, 0, 0, 0, 0, 0, 0],\n",
        "    [6, 8, 10, 0, 0, 0, 0, 1, 0, 0, 0, 0, 0, 0, 0],\n",
        "    [6, 8, 10, 0, 0, 0, 0, 0, 1, 0, 0, 0, 0, 0, 0],\n",
        "    [6, 8, 10, 0, 0, 0, 0, 0, 0, 1, 0, 0, 0, 0, 0],\n",
        "    [0, 8, 10, 0, 0, 0, 0, 0, 0, 0, 1, 0, 0, 0, 0],\n",
        "    [0, 8, 10, 0, 0, 0, 0, 0, 0, 0, 0, 1, 0, 0, 0],\n",
        "    [0, 8, 10, 0, 0, 0, 0, 0, 0, 0, 0, 0, 1, 0, 0],\n",
        "    [0, 8, 10, 0, 0, 0, 0, 0, 0, 0, 0, 0, 0, 1, 0],\n",
        "    [0, 0, 10, 0, 0, 0, 0, 0, 0, 0, 0, 0, 0, 0, 1],\n",
        "])\n",
        "\n",
        "\n",
        "image_path = 'images.jpeg'\n",
        "\n",
        "encrypted_image_path = hill_cipher_image(image_path, key_matrix, mode='encrypt')\n",
        "print(f\"Encrypted image saved to: {encrypted_image_path}\")\n",
        "\n",
        "decrypted_image_path = hill_cipher_image(encrypted_image_path, key_matrix, mode='decrypt')\n",
        "print(f\"Decrypted image saved to: {decrypted_image_path}\")\n"
      ]
    },
    {
      "cell_type": "code",
      "source": [],
      "metadata": {
        "id": "XnI2gY1ZDQwg"
      },
      "execution_count": null,
      "outputs": []
    }
  ]
}