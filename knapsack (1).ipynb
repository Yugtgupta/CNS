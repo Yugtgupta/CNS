{
  "nbformat": 4,
  "nbformat_minor": 0,
  "metadata": {
    "colab": {
      "provenance": []
    },
    "kernelspec": {
      "name": "python3",
      "display_name": "Python 3"
    },
    "language_info": {
      "name": "python"
    }
  },
  "cells": [
    {
      "cell_type": "code",
      "execution_count": 3,
      "metadata": {
        "colab": {
          "base_uri": "https://localhost:8080/"
        },
        "id": "qCIT1zb3DeEd",
        "outputId": "927f1731-402d-44dd-a2be-ca266ddad0dd"
      },
      "outputs": [
        {
          "output_type": "stream",
          "name": "stdout",
          "text": [
            "Original Plaintext: Thisss iss a cns lectureeeee\n",
            "Ciphertext: [334, 188, 264, 292, 106, 470, 344, 410, 28, 188, 324, 410, 106, 154, 256, 264, 28, 188, 344, 224, 106, 154, 256, 96, 302, 206, 344, 86, 362, 462, 284, 324, 302, 206, 334, 324, 302, 18]\n",
            "Decrypted Text: Thisss iss a cns lectureeeee\u0000\n"
          ]
        }
      ],
      "source": [
        "import numpy as np\n",
        "import random\n",
        "\n",
        "\n",
        "def to_binary(ascii_values):\n",
        "    return \"\".join(format(val, \"08b\") for val in ascii_values)\n",
        "\n",
        "\n",
        "def to_ascii(binary_str):\n",
        "    ascii_values = [int(binary_str[i: i + 8], 2) for i in range(0, len(binary_str), 8)]\n",
        "    return \"\".join(chr(val) for val in ascii_values)\n",
        "\n",
        "\n",
        "def modinv(a, m):\n",
        "    m0, x0, x1 = m, 0, 1\n",
        "    while a > 1:\n",
        "        q = a // m\n",
        "        m, a = a % m, m\n",
        "        x0, x1 = x1 - q * x0, x0\n",
        "    return x1 + m0 if x1 < 0 else x1\n",
        "\n",
        "\n",
        "class KnapsackCryptosystem:\n",
        "    def __init__(self, length=6):\n",
        "        self.private_key = self.generate_private_key(length)\n",
        "        self.m = sum(self.private_key) + random.randint(10, 20)\n",
        "        self.n = random.randint(2, self.m - 1)\n",
        "        while np.gcd(self.n, self.m) != 1:\n",
        "            self.n = random.randint(2, self.m - 1)\n",
        "        self.public_key = [(self.n * pk_elem) % self.m for pk_elem in self.private_key]\n",
        "\n",
        "    def generate_private_key(self, length):\n",
        "        private_key = [random.randint(1, 10)]\n",
        "        for _ in range(1, length):\n",
        "            next_value = sum(private_key) + random.randint(1, 10)\n",
        "            private_key.append(next_value)\n",
        "        return private_key\n",
        "\n",
        "    def encrypt(self, plaintext):\n",
        "        ascii_values = [ord(c) for c in plaintext]\n",
        "        binary_str = to_binary(ascii_values)\n",
        "        cipher_blocks = []\n",
        "        for i in range(0, len(binary_str), 6):\n",
        "            chunk = binary_str[i: i + 6].ljust(6, \"0\")\n",
        "            encrypted_sum = sum(int(bit) * self.public_key[j] for j, bit in enumerate(chunk))\n",
        "            cipher_blocks.append(encrypted_sum)\n",
        "        return cipher_blocks\n",
        "\n",
        "    def decrypt(self, ciphertext):\n",
        "        n_inv = modinv(self.n, self.m)\n",
        "        decrypted_bits = []\n",
        "        for cipher_block in ciphertext:\n",
        "            c_prime = (cipher_block * n_inv) % self.m\n",
        "            bits = [\"0\"] * len(self.private_key)\n",
        "            for i in reversed(range(len(self.private_key))):\n",
        "                if self.private_key[i] <= c_prime:\n",
        "                    bits[i] = \"1\"\n",
        "                    c_prime -= self.private_key[i]\n",
        "            decrypted_bits.append(\"\".join(bits))\n",
        "        decrypted_binary_str = \"\".join(decrypted_bits)\n",
        "        return to_ascii(decrypted_binary_str)\n",
        "\n",
        "\n",
        "knapsack = KnapsackCryptosystem()\n",
        "plaintext = \"Thisss iss a cns lectureeeee\"\n",
        "print(\"Original Plaintext:\", plaintext)\n",
        "ciphertext = knapsack.encrypt(plaintext)\n",
        "print(\"Ciphertext:\", ciphertext)\n",
        "decrypted_text = knapsack.decrypt(ciphertext)\n",
        "print(\"Decrypted Text:\", decrypted_text)\n"
      ]
    },
    {
      "cell_type": "code",
      "source": [],
      "metadata": {
        "id": "1nBb4JXMDzWS"
      },
      "execution_count": null,
      "outputs": []
    }
  ]
}