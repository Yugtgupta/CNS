{
  "nbformat": 4,
  "nbformat_minor": 0,
  "metadata": {
    "colab": {
      "provenance": []
    },
    "kernelspec": {
      "name": "python3",
      "display_name": "Python 3"
    },
    "language_info": {
      "name": "python"
    }
  },
  "cells": [
    {
      "cell_type": "code",
      "execution_count": 5,
      "metadata": {
        "id": "moeVV8cpLETi",
        "colab": {
          "base_uri": "https://localhost:8080/"
        },
        "outputId": "1fd7e33f-4c9a-4fde-84ae-ed989f35c63e"
      },
      "outputs": [
        {
          "output_type": "stream",
          "name": "stdout",
          "text": [
            "Requirement already satisfied: cryptography in /usr/local/lib/python3.10/dist-packages (43.0.1)\n",
            "Requirement already satisfied: cffi>=1.12 in /usr/local/lib/python3.10/dist-packages (from cryptography) (1.17.1)\n",
            "Requirement already satisfied: pycparser in /usr/local/lib/python3.10/dist-packages (from cffi>=1.12->cryptography) (2.22)\n"
          ]
        }
      ],
      "source": [
        "pip install cryptography"
      ]
    },
    {
      "cell_type": "code",
      "source": [
        "import math\n",
        "import random\n",
        "from typing import Tuple\n",
        "\n",
        "def generate_prime(min_value: int, max_value: int) -> int:\n",
        "    \"\"\"Generate a prime number between min_value and max_value.\"\"\"\n",
        "    def is_prime(n: int) -> bool:\n",
        "        if n < 2:\n",
        "            return False\n",
        "        for i in range(2, int(math.sqrt(n)) + 1):\n",
        "            if n % i == 0:\n",
        "                return False\n",
        "        return True\n",
        "\n",
        "    prime = random.randrange(min_value, max_value)\n",
        "    while not is_prime(prime):\n",
        "        prime = random.randrange(min_value, max_value)\n",
        "    return prime\n",
        "\n",
        "def generate_keypair(p: int, q: int) -> Tuple[Tuple[int, int], Tuple[int, int]]:\n",
        "    \"\"\"Generate public and private keypairs.\"\"\"\n",
        "    n = p * q\n",
        "    phi = (p - 1) * (q - 1)\n",
        "\n",
        "    # Choose e: coprime to phi and 1 < e < phi\n",
        "    e = random.randrange(1, phi)\n",
        "    while math.gcd(e, phi) != 1:\n",
        "        e = random.randrange(1, phi)\n",
        "\n",
        "    # Calculate d: modular multiplicative inverse of e\n",
        "    def extended_gcd(a: int, b: int) -> Tuple[int, int, int]:\n",
        "        if a == 0:\n",
        "            return b, 0, 1\n",
        "        gcd, x1, y1 = extended_gcd(b % a, a)\n",
        "        x = y1 - (b // a) * x1\n",
        "        y = x1\n",
        "        return gcd, x, y\n",
        "\n",
        "    _, d, _ = extended_gcd(e, phi)\n",
        "    d = d % phi\n",
        "    if d < 0:\n",
        "        d += phi\n",
        "\n",
        "    return ((e, n), (d, n))\n",
        "\n",
        "def encrypt(public_key: Tuple[int, int], plaintext: str) -> list:\n",
        "    \"\"\"Encrypt the plaintext using public key.\"\"\"\n",
        "    e, n = public_key\n",
        "    # Convert each character to number and encrypt\n",
        "    cipher = [(ord(char) ** e) % n for char in plaintext]\n",
        "    return cipher\n",
        "\n",
        "def decrypt(private_key: Tuple[int, int], ciphertext: list) -> str:\n",
        "    \"\"\"Decrypt the ciphertext using private key.\"\"\"\n",
        "    d, n = private_key\n",
        "    # Decrypt each number and convert back to character\n",
        "    plain = [chr((char ** d) % n) for char in ciphertext]\n",
        "    return ''.join(plain)\n",
        "\n",
        "def main():\n",
        "    # Generate two prime numbers\n",
        "    p = generate_prime(100, 1000)\n",
        "    q = generate_prime(100, 1000)\n",
        "\n",
        "    print(f\"Generated prime numbers: p = {p}, q = {q}\")\n",
        "\n",
        "    # Generate public and private keys\n",
        "    public_key, private_key = generate_keypair(p, q)\n",
        "    print(f\"Public key: {public_key}\")\n",
        "    print(f\"Private key: {private_key}\")\n",
        "\n",
        "    # Get message from user\n",
        "    message = input(\"Enter a message to encrypt: \")\n",
        "\n",
        "    # Encrypt the message\n",
        "    encrypted_msg = encrypt(public_key, message)\n",
        "    print(f\"Encrypted message: {encrypted_msg}\")\n",
        "\n",
        "    # Decrypt the message\n",
        "    decrypted_msg = decrypt(private_key, encrypted_msg)\n",
        "    print(f\"Decrypted message: {decrypted_msg}\")\n",
        "\n",
        "if __name__ == \"__main__\":\n",
        "    main()"
      ],
      "metadata": {
        "colab": {
          "base_uri": "https://localhost:8080/"
        },
        "id": "3JvdQWGDMnPc",
        "outputId": "b2f3c7c7-73fb-4a3d-b368-995fa8e84b35"
      },
      "execution_count": null,
      "outputs": [
        {
          "output_type": "stream",
          "name": "stdout",
          "text": [
            "Generated prime numbers: p = 821, q = 241\n",
            "Public key: (182143, 197861)\n",
            "Private key: (180607, 197861)\n"
          ]
        }
      ]
    },
    {
      "cell_type": "code",
      "source": [
        "import warnings\n",
        "warnings.filterwarnings('ignore')"
      ],
      "metadata": {
        "id": "T9ioYu2RMtXa"
      },
      "execution_count": null,
      "outputs": []
    },
    {
      "cell_type": "code",
      "source": [
        "import random\n",
        "from sympy import mod_inverse\n",
        "from PIL import Image\n",
        "import numpy as np\n",
        "\n",
        "def generate_keys(p, q):\n",
        "    n = p * q\n",
        "    φ_n = (p - 1) * (q - 1)\n",
        "\n",
        "    e = random.randint(2, φ_n - 1)\n",
        "    while gcd(e, φ_n) != 1:\n",
        "        e = random.randint(2, φ_n - 1)\n",
        "\n",
        "    d = mod_inverse(e, φ_n)\n",
        "    return (e, n), (d, n)\n",
        "\n",
        "def gcd(a, b):\n",
        "    while b:\n",
        "        a, b = b, a % b\n",
        "    return a\n",
        "\n",
        "def encrypt_image(image_bytes, public_key):\n",
        "    e, n = public_key\n",
        "    encrypted_data = []\n",
        "\n",
        "    # Encrypt each byte chunk using RSA\n",
        "    for byte in image_bytes:\n",
        "        encrypted_byte = pow(byte, e, n)\n",
        "        encrypted_data.append(encrypted_byte)\n",
        "\n",
        "    return encrypted_data\n",
        "\n",
        "def decrypt_image(encrypted_data, private_key):\n",
        "    d, n = private_key\n",
        "    decrypted_data = []\n",
        "\n",
        "    # Decrypt each byte chunk using RSA\n",
        "    for encrypted_byte in encrypted_data:\n",
        "        decrypted_byte = pow(encrypted_byte, d, n)\n",
        "        decrypted_data.append(decrypted_byte)\n",
        "\n",
        "    return decrypted_data\n",
        "\n",
        "def save_encrypted_image(encrypted_data, image_shape, output_filename):\n",
        "    encrypted_array = np.array(encrypted_data, dtype=np.uint8).reshape(image_shape)\n",
        "    encrypted_image = Image.fromarray(encrypted_array)\n",
        "    encrypted_image.save(output_filename)\n",
        "\n",
        "def load_image_as_bytes(image_path):\n",
        "    image = Image.open(image_path).convert('L')  # Convert image to grayscale for simplicity\n",
        "    image_data = np.array(image)\n",
        "    image_bytes = image_data.flatten().tolist()\n",
        "    return image_bytes, image_data.shape\n",
        "\n",
        "def save_decrypted_image(decrypted_data, image_shape, output_filename):\n",
        "    decrypted_array = np.array(decrypted_data, dtype=np.uint8).reshape(image_shape)\n",
        "    decrypted_image = Image.fromarray(decrypted_array)\n",
        "    decrypted_image.save(output_filename)\n",
        "\n",
        "# Main program execution\n",
        "p = 101  # Choose large primes for real-world security\n",
        "q = 103\n",
        "public_key, private_key = generate_keys(p, q)\n",
        "\n",
        "print(f\"Public Key: {public_key}\")\n",
        "print(f\"Private Key: {private_key}\")\n",
        "\n",
        "# Load the image and get bytes\n",
        "image_path = \"/content/images.jpeg\"  # Replace with your image path\n",
        "image_bytes, image_shape = load_image_as_bytes(image_path)\n",
        "\n",
        "# Encrypt the image\n",
        "encrypted_data = encrypt_image(image_bytes, public_key)\n",
        "\n",
        "# Save encrypted image for visualization (optional)\n",
        "save_encrypted_image(encrypted_data, image_shape, \"/content/encrypted_image.png\")\n",
        "print(\"Encrypted image saved as 'encrypted_image.png'\")\n",
        "\n",
        "# Decrypt the image\n",
        "decrypted_data = decrypt_image(encrypted_data, private_key)\n",
        "\n",
        "# Save decrypted image\n",
        "save_decrypted_image(decrypted_data, image_shape, \"/content/decrypted_image.png\")\n",
        "print(\"Decrypted image saved as 'decrypted_image.png'\")\n"
      ],
      "metadata": {
        "id": "gZl6MONwMnng"
      },
      "execution_count": null,
      "outputs": []
    },
    {
      "cell_type": "code",
      "source": [],
      "metadata": {
        "id": "jLZBHaEXMzDt"
      },
      "execution_count": null,
      "outputs": []
    }
  ]
}